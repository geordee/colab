{
  "nbformat": 4,
  "nbformat_minor": 0,
  "metadata": {
    "colab": {
      "name": "HRMS.ipynb",
      "provenance": [],
      "collapsed_sections": [],
      "include_colab_link": true
    },
    "kernelspec": {
      "name": "python3",
      "display_name": "Python 3"
    },
    "language_info": {
      "name": "python"
    }
  },
  "cells": [
    {
      "cell_type": "markdown",
      "metadata": {
        "id": "view-in-github",
        "colab_type": "text"
      },
      "source": [
        "<a href=\"https://colab.research.google.com/github/geordee/colab/blob/main/HRMS.ipynb\" target=\"_parent\"><img src=\"https://colab.research.google.com/assets/colab-badge.svg\" alt=\"Open In Colab\"/></a>"
      ]
    },
    {
      "cell_type": "markdown",
      "metadata": {
        "id": "7e_Qy2xpo6Wc"
      },
      "source": [
        "## HRMS Data Analytics\n",
        "Analyze HRMS data using Python and Pandas\n",
        "Pandas user guide is available at<br />\n",
        "https://pandas.pydata.org/docs/user_guide/index.html#user-guide"
      ]
    },
    {
      "cell_type": "markdown",
      "metadata": {
        "id": "LGDGl_6_uDOM"
      },
      "source": [
        "Import required data analysis libraries"
      ]
    },
    {
      "cell_type": "code",
      "metadata": {
        "id": "pYI3hOHOpSSo"
      },
      "source": [
        "!pip install -q xlrd\n",
        "import numpy as np\n",
        "import pandas as pd\n"
      ],
      "execution_count": null,
      "outputs": []
    },
    {
      "cell_type": "markdown",
      "metadata": {
        "id": "ohlaiHq7t7BV"
      },
      "source": [
        "Read Excel file data as a Dataframe"
      ]
    },
    {
      "cell_type": "code",
      "metadata": {
        "id": "Xf55-9_oxgjW"
      },
      "source": [
        "employee_df = pd.read_excel(\"HRMS.xlsx\", sheet_name=\"Employees\")\n",
        "employee_df.head()"
      ],
      "execution_count": null,
      "outputs": []
    },
    {
      "cell_type": "markdown",
      "metadata": {
        "id": "o4xu8yjLw0Og"
      },
      "source": [
        ""
      ]
    },
    {
      "cell_type": "markdown",
      "metadata": {
        "id": "tQiWGYiTuyJ9"
      },
      "source": [
        "Add JoinYear as a new column using a transformation on JoinDate"
      ]
    },
    {
      "cell_type": "code",
      "metadata": {
        "id": "tPljYZUouxyE"
      },
      "source": [
        "employee_df['JoinDate'] = pd.to_datetime(employee_df['JoinDate'])\n",
        "employee_df['JoinYear'] = employee_df['JoinDate'].dt.year\n",
        "employee_df.head()"
      ],
      "execution_count": null,
      "outputs": []
    },
    {
      "cell_type": "markdown",
      "metadata": {
        "id": "-y6zAiIYt-w9"
      },
      "source": [
        "Pivot table on Department and Band, and aggregate (count)"
      ]
    },
    {
      "cell_type": "code",
      "metadata": {
        "id": "x_h4_7J9r_jV"
      },
      "source": [
        "employee_df.pivot_table(index=['Department'], columns='Band', values='EmployeeID', aggfunc='count').fillna('')"
      ],
      "execution_count": null,
      "outputs": []
    },
    {
      "cell_type": "markdown",
      "metadata": {
        "id": "MIKULbJyuJNB"
      },
      "source": [
        "Filter the table and pivot"
      ]
    },
    {
      "cell_type": "code",
      "metadata": {
        "id": "77yqnqfds5-b"
      },
      "source": [
        "employee_df[employee_df.Department == \"Research and Development\"].pivot_table(index=['Department'], columns='Band', values='EmployeeID', aggfunc='count').fillna(0)"
      ],
      "execution_count": null,
      "outputs": []
    },
    {
      "cell_type": "markdown",
      "metadata": {
        "id": "0Poy4CIOvkw4"
      },
      "source": [
        "## Compute Bonus"
      ]
    },
    {
      "cell_type": "code",
      "metadata": {
        "id": "lN7ci2uDvr3c"
      },
      "source": [
        "bonus_df = employee_df.loc[:, [\"EmployeeID\"]]\n",
        "bonus_df.head()"
      ],
      "execution_count": null,
      "outputs": []
    },
    {
      "cell_type": "code",
      "metadata": {
        "id": "NR_TJsaxvwFS"
      },
      "source": [
        "salary_df = pd.read_excel(\"HRMS.xlsx\", sheet_name=\"Salaries\")\n",
        "salary_df.head()"
      ],
      "execution_count": null,
      "outputs": []
    },
    {
      "cell_type": "code",
      "metadata": {
        "id": "0Vmkmhjew6Yk"
      },
      "source": [
        "bonus_df = pd.merge(bonus_df, \n",
        "                    salary_df[['EmployeeID','Salary']], \n",
        "                    on = 'EmployeeID', \n",
        "                    how = 'inner')\n",
        "bonus_df.head()"
      ],
      "execution_count": null,
      "outputs": []
    },
    {
      "cell_type": "code",
      "metadata": {
        "id": "iiBofPyCxvE5"
      },
      "source": [
        "bonus_df = pd.merge(bonus_df, \n",
        "                    employee_df[['EmployeeID','Band']], \n",
        "                    on = 'EmployeeID', \n",
        "                    how = 'inner')\n",
        "bonus_df.head()"
      ],
      "execution_count": null,
      "outputs": []
    },
    {
      "cell_type": "code",
      "metadata": {
        "id": "NLpQVRhzzKPw"
      },
      "source": [
        "ratings_df = pd.read_excel(\"HRMS.xlsx\", sheet_name=\"Ratings\")\n",
        "ratings_df.head()"
      ],
      "execution_count": null,
      "outputs": []
    },
    {
      "cell_type": "code",
      "metadata": {
        "id": "sEKS-AVcndF6"
      },
      "source": [
        "bonus_df = pd.merge(bonus_df, \n",
        "                    ratings_df[['EmployeeID','Rating']], \n",
        "                    on = 'EmployeeID', \n",
        "                    how = 'inner')\n",
        "bonus_df.head()"
      ],
      "execution_count": null,
      "outputs": []
    },
    {
      "cell_type": "code",
      "metadata": {
        "id": "OKKZkDEmnfQQ"
      },
      "source": [
        "settings_df = pd.read_excel(\"HRMS.xlsx\", sheet_name=\"Settings\")\n",
        "settings_df.head()"
      ],
      "execution_count": null,
      "outputs": []
    },
    {
      "cell_type": "code",
      "metadata": {
        "id": "rrmMn2RiraDF"
      },
      "source": [
        "bonus_df = pd.merge(bonus_df, \n",
        "                    settings_df[['Band','Rating','Bonus %']], \n",
        "                    on = ['Band','Rating'] ,\n",
        "                    how = 'inner')\n",
        "bonus_df.head()"
      ],
      "execution_count": null,
      "outputs": []
    },
    {
      "cell_type": "code",
      "metadata": {
        "id": "iJsFHFp5srYV"
      },
      "source": [
        "bonus_df['Bonus']=bonus_df['Salary']*2*bonus_df['Bonus %']\n",
        "bonus_df.head()\n"
      ],
      "execution_count": null,
      "outputs": []
    },
    {
      "cell_type": "code",
      "metadata": {
        "id": "cf3TY8ghtksP"
      },
      "source": [
        "bonus_df['Bonus']=np.maximum(bonus_df['Bonus'],5000)\n",
        "bonus_df.head()"
      ],
      "execution_count": null,
      "outputs": []
    }
  ]
}